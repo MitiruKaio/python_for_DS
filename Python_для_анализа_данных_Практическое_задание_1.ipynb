{
  "nbformat": 4,
  "nbformat_minor": 0,
  "metadata": {
    "colab": {
      "provenance": []
    },
    "kernelspec": {
      "name": "python3",
      "display_name": "Python 3"
    },
    "language_info": {
      "name": "python"
    }
  },
  "cells": [
    {
      "cell_type": "code",
      "execution_count": null,
      "metadata": {
        "colab": {
          "base_uri": "https://localhost:8080/"
        },
        "id": "g1nrTQ70XrB6",
        "outputId": "ac5b7d90-c923-46dc-b1ea-0528c4e5ff3a"
      },
      "outputs": [
        {
          "output_type": "stream",
          "name": "stdout",
          "text": [
            "Обычный шоколадный батончик\n",
            "Шоколадный батончик, 50.0 рублей\n",
            "Шоколадный батончик, добавка: орехи\n",
            "Шоколадный батончик, 70.0 рублей\n",
            "Ошибка: Цена батончика должна быть больше нуля\n"
          ]
        }
      ],
      "source": [
        "\"\"\"\n",
        "Создайте класс Chocolate (для определения шоколадного батончика), принимающий следующие аргументы при инициализации:\n",
        "цена батончика (тип - float), добавка к шоколаду (необязательный аргумент, тип - str) - 2 балла\n",
        "При инициализации необходимо проверять, чтобы цена батончика была больше нуля,\n",
        "если цена меньше нуля необходимо вызывать исключение ValueError - 2 балла\n",
        "Реализуйте метод show_my_chocolate, выводящий на печать \"Шоколадный батончик, добавка: {ДОБАВКА}\" в случае наличия добавки,\n",
        "а иначе должна отобразиться следующая фраза: \"Обычный шоколадный батончик\" - 2 балла\n",
        "Переопределите метод __str__, который при применении функции print() к объекты класса Chocolate должен возвращать строку \"Шоколадный батончик, <ЦЕНА> рублей\" - 2 балла\n",
        "Продемонстрируйте использование соответствующего функционала вашего класса, создав несколько объектов Chocolate с различными аргументами - 2 балла\n",
        "\"\"\"\n",
        "\n",
        "class Chocolate:\n",
        "\n",
        "    def __init__(self, price: float, additive: str = None):\n",
        "        if price <= 0:\n",
        "            raise ValueError(\"Цена батончика должна быть больше нуля\")\n",
        "        self.price = price\n",
        "        self.additive = additive\n",
        "\n",
        "    def show_my_chocolate(self):\n",
        "        if self.additive:\n",
        "            print(f\"Шоколадный батончик, добавка: {self.additive}\")\n",
        "        else:\n",
        "            print(\"Обычный шоколадный батончик\")\n",
        "\n",
        "    def __str__(self):\n",
        "        return f\"Шоколадный батончик, {self.price} рублей\"\n",
        "\n",
        "\n",
        "if __name__ == \"__main__\":\n",
        "    # Создаем обычный шоколадный батончик с корректной ценой\n",
        "    try:\n",
        "        chocolate1 = Chocolate(50.0)\n",
        "        chocolate1.show_my_chocolate()\n",
        "        print(chocolate1)\n",
        "    except ValueError as e:\n",
        "        print(f\"Ошибка: {e}\")\n",
        "\n",
        "    # Создаем шоколадный батончик с добавкой и корректной ценой\n",
        "    try:\n",
        "        chocolate2 = Chocolate(70.0, \"орехи\")\n",
        "        chocolate2.show_my_chocolate()\n",
        "        print(chocolate2)\n",
        "    except ValueError as e:\n",
        "        print(f\"Ошибка: {e}\")\n",
        "\n",
        "    # Пытаемся создать батончик с некорректной ценой\n",
        "    try:\n",
        "        chocolate3 = Chocolate(-10.0)\n",
        "    except ValueError as e:\n",
        "        print(f\"Ошибка: {e}\")\n",
        "\n"
      ]
    }
  ]
}